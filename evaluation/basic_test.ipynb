{
 "cells": [
  {
   "metadata": {
    "ExecuteTime": {
     "end_time": "2025-10-15T23:03:04.225873Z",
     "start_time": "2025-10-15T23:03:04.218900Z"
    }
   },
   "cell_type": "code",
   "source": [
    "from dotenv import load_dotenv\n",
    "load_dotenv(\"../.env\")"
   ],
   "id": "58bd0da0896b5db4",
   "outputs": [
    {
     "data": {
      "text/plain": [
       "True"
      ]
     },
     "execution_count": 1,
     "metadata": {},
     "output_type": "execute_result"
    }
   ],
   "execution_count": 1
  },
  {
   "metadata": {
    "collapsed": true,
    "ExecuteTime": {
     "end_time": "2025-10-15T23:03:04.601162Z",
     "start_time": "2025-10-15T23:03:04.247264Z"
    }
   },
   "cell_type": "code",
   "source": [
    "from typing import Dict, Any\n",
    "from langchain_core.messages import HumanMessage\n",
    "\n",
    "from graph import create_debug_agent_graph"
   ],
   "id": "cb9e2c88bc36ce83",
   "outputs": [],
   "execution_count": 2
  },
  {
   "metadata": {
    "ExecuteTime": {
     "end_time": "2025-10-15T23:03:04.609604Z",
     "start_time": "2025-10-15T23:03:04.607136Z"
    }
   },
   "cell_type": "code",
   "source": [
    "def fix_code(buggy_code: str, test_code: str = \"\", max_iterations: int = 5) -> Dict[str, Any]:\n",
    "    \"\"\"\n",
    "    Fix buggy Python code using the AI agent.\n",
    "\n",
    "    Args:\n",
    "        buggy_code: The buggy Python code to fix\n",
    "        test_code: Optional test code to validate the fix\n",
    "        max_iterations: Maximum number of agent iterations\n",
    "\n",
    "    Returns:\n",
    "        Dictionary with fixed_code, success status, and iterations used\n",
    "    \"\"\"\n",
    "    app = create_debug_agent_graph()\n",
    "\n",
    "    # Prepare initial message\n",
    "    user_message = f\"\"\"Fix the following buggy Python code:\n",
    "```python\n",
    "{buggy_code}\n",
    "```\n",
    "\"\"\"\n",
    "\n",
    "    if test_code:\n",
    "        user_message += f\"\"\"\n",
    "\n",
    "Test code to validate the fix:\n",
    "```python\n",
    "{test_code}\n",
    "```\n",
    "\"\"\"\n",
    "\n",
    "    # Run agent\n",
    "    initial_state = {\n",
    "        \"messages\": [HumanMessage(content=user_message)],\n",
    "        \"iterations\": 0,\n",
    "        \"max_iterations\": max_iterations,\n",
    "        \"original_buggy_code\": buggy_code,\n",
    "        \"test_code\": test_code,\n",
    "        \"fixed_code\": \"\",\n",
    "        \"is_fixed\": False\n",
    "    }\n",
    "\n",
    "    final_state = app.invoke(initial_state)\n",
    "\n",
    "    return {\n",
    "        \"fixed_code\": final_state.get(\"fixed_code\", \"\"),\n",
    "        \"success\": final_state.get(\"is_fixed\", False),\n",
    "        \"iterations\": final_state.get(\"iterations\", 0),\n",
    "        \"messages\": final_state[\"messages\"]\n",
    "    }\n"
   ],
   "id": "3319704159948ecd",
   "outputs": [],
   "execution_count": 3
  },
  {
   "metadata": {
    "ExecuteTime": {
     "end_time": "2025-10-15T23:03:30.695169Z",
     "start_time": "2025-10-15T23:03:04.612146Z"
    }
   },
   "cell_type": "code",
   "source": [
    "buggy_code = \"\"\"\n",
    "def calculate_average(numbers):\n",
    "    total = 0\n",
    "    for num in numbers:\n",
    "        total += num\n",
    "    return total / len(numbers)\n",
    "\n",
    "# Test\n",
    "print(calculate_average([1, 2, 3, 4, 5]))\n",
    "print(calculate_average([]))  # This will cause an error!\n",
    "\"\"\"\n",
    "\n",
    "print(\"\\nBuggy code:\")\n",
    "print(buggy_code)\n",
    "print(\"\\nRunning agent...\\n\")\n",
    "\n",
    "result = fix_code(buggy_code, max_iterations=5)\n",
    "\n",
    "print(f\"Success: {result['success']}\")\n",
    "print(f\"Iterations: {result['iterations']}\")\n",
    "print(\"\\nFixed code:\")\n",
    "print(result['fixed_code'])"
   ],
   "id": "7974276096f33bd3",
   "outputs": [
    {
     "name": "stdout",
     "output_type": "stream",
     "text": [
      "\n",
      "Buggy code:\n",
      "\n",
      "def calculate_average(numbers):\n",
      "    total = 0\n",
      "    for num in numbers:\n",
      "        total += num\n",
      "    return total / len(numbers)\n",
      "\n",
      "# Test\n",
      "print(calculate_average([1, 2, 3, 4, 5]))\n",
      "print(calculate_average([]))  # This will cause an error!\n",
      "\n",
      "\n",
      "Running agent...\n",
      "\n",
      "Success: True\n",
      "Iterations: 2\n",
      "\n",
      "Fixed code:\n",
      "def calculate_average(numbers):\n",
      "    if len(numbers) == 0:\n",
      "        return None\n",
      "    total = 0\n",
      "    for num in numbers:\n",
      "        total += num\n",
      "    return total / len(numbers)\n",
      "\n",
      "# Test\n",
      "print(calculate_average([1, 2, 3, 4, 5]))\n",
      "print(calculate_average([]))  # This will now return None\n"
     ]
    }
   ],
   "execution_count": 4
  }
 ],
 "metadata": {
  "kernelspec": {
   "display_name": "Python 3",
   "language": "python",
   "name": "python3"
  },
  "language_info": {
   "codemirror_mode": {
    "name": "ipython",
    "version": 2
   },
   "file_extension": ".py",
   "mimetype": "text/x-python",
   "name": "python",
   "nbconvert_exporter": "python",
   "pygments_lexer": "ipython2",
   "version": "2.7.6"
  }
 },
 "nbformat": 4,
 "nbformat_minor": 5
}
