{
 "cells": [
  {
   "metadata": {
    "ExecuteTime": {
     "end_time": "2025-10-17T20:43:16.119090Z",
     "start_time": "2025-10-17T20:43:16.073124Z"
    }
   },
   "cell_type": "code",
   "source": [
    "from dotenv import load_dotenv\n",
    "load_dotenv(\"../.env\")"
   ],
   "id": "1c0bcf806c41f8c9",
   "outputs": [
    {
     "data": {
      "text/plain": [
       "True"
      ]
     },
     "execution_count": 1,
     "metadata": {},
     "output_type": "execute_result"
    }
   ],
   "execution_count": 1
  },
  {
   "cell_type": "code",
   "id": "initial_id",
   "metadata": {
    "collapsed": true,
    "ExecuteTime": {
     "end_time": "2025-10-17T20:43:17.498286Z",
     "start_time": "2025-10-17T20:43:16.165340Z"
    }
   },
   "source": [
    "from pprint import pprint\n",
    "from datasets import load_dataset\n",
    "from tqdm.notebook import tqdm\n",
    "\n",
    "from graph import create_debug_agent_graph"
   ],
   "outputs": [],
   "execution_count": 2
  },
  {
   "metadata": {
    "ExecuteTime": {
     "end_time": "2025-10-17T20:43:19.648108Z",
     "start_time": "2025-10-17T20:43:17.547686Z"
    }
   },
   "cell_type": "code",
   "source": [
    "dataset = load_dataset(\"bigcode/humanevalpack\", \"python\")\n",
    "problems = list(dataset[\"test\"])\n",
    "\n",
    "#take only first 50 problems for quicker testing\n",
    "problems = problems[:50]\n",
    "\n",
    "print(\"problems len: \" , len(problems))\n",
    "print(problems[0].keys())"
   ],
   "id": "a6e6009315dbaa1e",
   "outputs": [
    {
     "name": "stdout",
     "output_type": "stream",
     "text": [
      "problems len:  50\n",
      "dict_keys(['task_id', 'prompt', 'declaration', 'canonical_solution', 'buggy_solution', 'bug_type', 'failure_symptoms', 'entry_point', 'import', 'test_setup', 'test', 'example_test', 'signature', 'docstring', 'instruction'])\n"
     ]
    }
   ],
   "execution_count": 3
  },
  {
   "metadata": {
    "ExecuteTime": {
     "end_time": "2025-10-17T20:43:19.683734Z",
     "start_time": "2025-10-17T20:43:19.680838Z"
    }
   },
   "cell_type": "code",
   "source": [
    "experiment_problem = problems[0]\n",
    "print(\"Problem ID:\", experiment_problem[\"task_id\"])\n",
    "print(\"Problem buggy_solution: \", experiment_problem[\"buggy_solution\"])\n",
    "print(\"Problem tests: \", experiment_problem[\"test\"])"
   ],
   "id": "6f5527c7df2e40dd",
   "outputs": [
    {
     "name": "stdout",
     "output_type": "stream",
     "text": [
      "Problem ID: Python/0\n",
      "Problem buggy_solution:      for idx, elem in enumerate(numbers):\n",
      "        for idx2, elem2 in enumerate(numbers):\n",
      "            if idx != idx2:\n",
      "                distance = elem - elem2\n",
      "                if distance < threshold:\n",
      "                    return True\n",
      "\n",
      "    return False\n",
      "\n",
      "Problem tests:  \n",
      "\n",
      "\n",
      "\n",
      "\n",
      "def check(has_close_elements):\n",
      "    assert has_close_elements([1.0, 2.0, 3.9, 4.0, 5.0, 2.2], 0.3) == True\n",
      "    assert has_close_elements([1.0, 2.0, 3.9, 4.0, 5.0, 2.2], 0.05) == False\n",
      "    assert has_close_elements([1.0, 2.0, 5.9, 4.0, 5.0], 0.95) == True\n",
      "    assert has_close_elements([1.0, 2.0, 5.9, 4.0, 5.0], 0.8) == False\n",
      "    assert has_close_elements([1.0, 2.0, 3.0, 4.0, 5.0, 2.0], 0.1) == True\n",
      "    assert has_close_elements([1.1, 2.2, 3.1, 4.1, 5.1], 1.0) == True\n",
      "    assert has_close_elements([1.1, 2.2, 3.1, 4.1, 5.1], 0.5) == False\n",
      "\n",
      "check(has_close_elements)\n"
     ]
    }
   ],
   "execution_count": 4
  },
  {
   "metadata": {
    "ExecuteTime": {
     "end_time": "2025-10-17T20:43:19.703422Z",
     "start_time": "2025-10-17T20:43:19.695595Z"
    }
   },
   "cell_type": "code",
   "source": "graph = create_debug_agent_graph()",
   "id": "eb51987c4f620863",
   "outputs": [],
   "execution_count": 5
  },
  {
   "metadata": {
    "ExecuteTime": {
     "end_time": "2025-10-17T20:43:19.712742Z",
     "start_time": "2025-10-17T20:43:19.710028Z"
    }
   },
   "cell_type": "code",
   "source": [
    "from agent.state import DebugAgentState\n",
    "from langchain_core.messages import HumanMessage\n",
    "\n",
    "from typing import Any, Dict\n",
    "\n",
    "def fix_code(buggy_code, test_code = \"\", max_iterations = 7) -> Dict[str, Any]:\n",
    "    \"\"\"\n",
    "    Uses the debug agent graph to attempt to fix the provided buggy code.\n",
    "    \"\"\"\n",
    "\n",
    "    user_message = f\"Fix the following Python code:\\n{buggy_code} and for testing use this code: \\n{test_code}\"\n",
    "\n",
    "    initial_state: DebugAgentState = {\n",
    "        \"messages\": [HumanMessage(content=user_message)],\n",
    "        \"iterations\": 0,\n",
    "        \"max_iterations\": max_iterations,\n",
    "        \"original_buggy_code\": buggy_code,\n",
    "        \"test_code\": test_code,\n",
    "        \"fixed_code\": \"\",\n",
    "        \"is_fixed\": False,\n",
    "        \"submit_idx\": -1,\n",
    "        \"submissions\": [],\n",
    "        \"first_pass\": None\n",
    "    }\n",
    "\n",
    "    final_state = graph.invoke(initial_state)\n",
    "\n",
    "    return {\n",
    "        \"fixed_code\": final_state[\"fixed_code\"],\n",
    "        \"is_fixed\": final_state[\"is_fixed\"],\n",
    "        \"iterations\": final_state[\"iterations\"],\n",
    "        \"messages\": final_state[\"messages\"],\n",
    "        \"submissions\": final_state[\"submissions\"],\n",
    "        \"first_pass\": final_state[\"first_pass\"],\n",
    "    }\n"
   ],
   "id": "946e6c43a795e73e",
   "outputs": [],
   "execution_count": 6
  },
  {
   "metadata": {
    "ExecuteTime": {
     "end_time": "2025-10-17T21:43:31.894323Z",
     "start_time": "2025-10-17T20:43:19.716308Z"
    }
   },
   "cell_type": "code",
   "source": [
    "results = []\n",
    "\n",
    "for problem in tqdm(problems):\n",
    "    buggy_solution = problem.get(\"buggy_solution\", \"\")\n",
    "    test_code = problem.get(\"test\", \"\")\n",
    "    results.append(fix_code(buggy_solution, test_code=test_code))"
   ],
   "id": "fb7e278ece7e0faa",
   "outputs": [
    {
     "data": {
      "text/plain": [
       "  0%|          | 0/50 [00:00<?, ?it/s]"
      ],
      "application/vnd.jupyter.widget-view+json": {
       "version_major": 2,
       "version_minor": 0,
       "model_id": "70103fcdcaab437daec4dcd749e12a24"
      }
     },
     "metadata": {},
     "output_type": "display_data",
     "jetTransient": {
      "display_id": null
     }
    }
   ],
   "execution_count": 7
  },
  {
   "metadata": {
    "ExecuteTime": {
     "end_time": "2025-10-17T21:43:32.960955Z",
     "start_time": "2025-10-17T21:43:32.949968Z"
    }
   },
   "cell_type": "code",
   "source": "pprint(results[0])",
   "id": "ff9bc586d486c63f",
   "outputs": [
    {
     "name": "stdout",
     "output_type": "stream",
     "text": [
      "{'first_pass': True,\n",
      " 'fixed_code': 'def has_close_elements(numbers, threshold):\\n'\n",
      "               '    for idx, elem in enumerate(numbers):\\n'\n",
      "               '        for idx2, elem2 in enumerate(numbers):\\n'\n",
      "               '            if idx != idx2:\\n'\n",
      "               '                distance = abs(elem - elem2)\\n'\n",
      "               '                if distance < threshold:\\n'\n",
      "               '                    return True\\n'\n",
      "               '\\n'\n",
      "               '    return False',\n",
      " 'is_fixed': True,\n",
      " 'iterations': 2,\n",
      " 'messages': [HumanMessage(content='Fix the following Python code:\\n    for idx, elem in enumerate(numbers):\\n        for idx2, elem2 in enumerate(numbers):\\n            if idx != idx2:\\n                distance = elem - elem2\\n                if distance < threshold:\\n                    return True\\n\\n    return False\\n and for testing use this code: \\n\\n\\n\\n\\n\\ndef check(has_close_elements):\\n    assert has_close_elements([1.0, 2.0, 3.9, 4.0, 5.0, 2.2], 0.3) == True\\n    assert has_close_elements([1.0, 2.0, 3.9, 4.0, 5.0, 2.2], 0.05) == False\\n    assert has_close_elements([1.0, 2.0, 5.9, 4.0, 5.0], 0.95) == True\\n    assert has_close_elements([1.0, 2.0, 5.9, 4.0, 5.0], 0.8) == False\\n    assert has_close_elements([1.0, 2.0, 3.0, 4.0, 5.0, 2.0], 0.1) == True\\n    assert has_close_elements([1.1, 2.2, 3.1, 4.1, 5.1], 1.0) == True\\n    assert has_close_elements([1.1, 2.2, 3.1, 4.1, 5.1], 0.5) == False\\n\\ncheck(has_close_elements)', additional_kwargs={}, response_metadata={}, id='67e2a4da-6a56-4f6d-945f-86d2b24a483d'),\n",
      "              AIMessage(content=\"Let's start by analyzing the given code and testing it with the provided test cases.\\n\\n### Step 1: Analyze the Code\\nThe function `has_close_elements` checks if there are any two elements in a list that are closer to each other than a specified threshold. The current implementation uses nested loops, which is inefficient for large lists.\\n\\n### Step 2: Test the Code\\nWe will use the provided test cases to see if the code works as expected.\\n\\n```python\\ndef has_close_elements(numbers, threshold):\\n    for idx, elem in enumerate(numbers):\\n        for idx2, elem2 in enumerate(numbers):\\n            if idx != idx2:\\n                distance = abs(elem - elem2)\\n                if distance < threshold:\\n                    return True\\n\\n    return False\\n\\n# Test cases\\nprint(has_close_elements([1.0, 2.0, 3.9, 4.0, 5.0, 2.2], 0.3))  # Expected: True\\nprint(has_close_elements([1.0, 2.0, 3.9, 4.0, 5.0, 2.2], 0.05))  # Expected: False\\nprint(has_close_elements([1.0, 2.0, 5.9, 4.0, 5.0], 0.95))  # Expected: True\\nprint(has_close_elements([1.0, 2.0, 5.9, 4.0, 5.0], 0.8))  # Expected: False\\nprint(has_close_elements([1.0, 2.0, 3.0, 4.0, 5.0, 2.0], 0.1))  # Expected: True\\nprint(has_close_elements([1.1, 2.2, 3.1, 4.1, 5.1], 1.0))  # Expected: True\\nprint(has_close_elements([1.1, 2.2, 3.1, 4.1, 5.1], 0.5))  # Expected: False\\n```\\n\\n### Step 3: Identify Issues\\nThe code has a logical error in the calculation of `distance`. The current implementation subtracts `elem2` from `elem`, which can result in negative distances if `elem2` is greater than `elem`. We should use the absolute value to ensure that the distance is always positive.\\n\\n### Step 4: Fix the Code\\nWe will fix the code by using the absolute value for the distance calculation.\\n\\n```python\\ndef has_close_elements(numbers, threshold):\\n    for idx, elem in enumerate(numbers):\\n        for idx2, elem2 in enumerate(numbers):\\n            if idx != idx2:\\n                distance = abs(elem - elem2)\\n                if distance < threshold:\\n                    return True\\n\\n    return False\\n```\\n\\n### Step 5: Test the Fixed Code\\nWe will test the fixed code with the provided test cases to ensure that it works as expected.\\n\\n```python\\ndef check(has_close_elements):\\n    assert has_close_elements([1.0, 2.0, 3.9, 4.0, 5.0, 2.2], 0.3) == True\\n    assert has_close_elements([1.0, 2.0, 3.9, 4.0, 5.0, 2.2], 0.05) == False\\n    assert has_close_elements([1.0, 2.0, 5.9, 4.0, 5.0], 0.95) == True\\n    assert has_close_elements([1.0, 2.0, 5.9, 4.0, 5.0], 0.8) == False\\n    assert has_close_elements([1.0, 2.0, 3.0, 4.0, 5.0, 2.0], 0.1) == True\\n    assert has_close_elements([1.1, 2.2, 3.1, 4.1, 5.1], 1.0) == True\\n    assert has_close_elements([1.1, 2.2, 3.1, 4.1, 5.1], 0.5) == False\\n\\ncheck(has_close_elements)\\n```\\n\\n### Step 6: Provide the Final Fixed Code\\nThe final fixed code is:\\n\\n```python\\n<<<FIXED_CODE_START>>>\\ndef has_close_elements(numbers, threshold):\\n    for idx, elem in enumerate(numbers):\\n        for idx2, elem2 in enumerate(numbers):\\n            if idx != idx2:\\n                distance = abs(elem - elem2)\\n                if distance < threshold:\\n                    return True\\n\\n    return False\\n<<<FIXED_CODE_END>>>\\n```\", additional_kwargs={'refusal': None}, response_metadata={'token_usage': {'completion_tokens': 1033, 'prompt_tokens': 1143, 'total_tokens': 2176, 'completion_tokens_details': None, 'prompt_tokens_details': None}, 'model_name': 'qwen2.5-coder-7b-instruct', 'system_fingerprint': 'qwen2.5-coder-7b-instruct', 'id': 'chatcmpl-frzoqsoicvoll3bwra72k', 'service_tier': None, 'finish_reason': 'stop', 'logprobs': None}, id='run--c34e03d8-96e8-4685-9c6c-396ca76ae02b-0', usage_metadata={'input_tokens': 1143, 'output_tokens': 1033, 'total_tokens': 2176, 'input_token_details': {}, 'output_token_details': {}}),\n",
      "              ToolMessage(content='Test passed! The fixed code runs successfully.\\n\\nEXIT_CODE: 0', id='66ce2a33-af26-4918-9210-219b726e3e3f', tool_call_id='auto_test'),\n",
      "              AIMessage(content='Great! The fixed code runs successfully and passes all the provided test cases. Here is the final fixed code:\\n\\n```python\\n<<<FIXED_CODE_START>>>\\ndef has_close_elements(numbers, threshold):\\n    for idx, elem in enumerate(numbers):\\n        for idx2, elem2 in enumerate(numbers):\\n            if idx != idx2:\\n                distance = abs(elem - elem2)\\n                if distance < threshold:\\n                    return True\\n\\n    return False\\n<<<FIXED_CODE_END>>>\\n```\\n\\nThis code now correctly calculates the absolute difference between elements and checks if any two elements are closer than the specified threshold.', additional_kwargs={'refusal': None}, response_metadata={'token_usage': {'completion_tokens': 123, 'prompt_tokens': 2209, 'total_tokens': 2332, 'completion_tokens_details': None, 'prompt_tokens_details': None}, 'model_name': 'qwen2.5-coder-7b-instruct', 'system_fingerprint': 'qwen2.5-coder-7b-instruct', 'id': 'chatcmpl-o14yoqv4zo9abg1m2m2g', 'service_tier': None, 'finish_reason': 'stop', 'logprobs': None}, id='run--a2734dfe-5ebf-4e2a-92de-80d25f5f9e9f-0', usage_metadata={'input_tokens': 2209, 'output_tokens': 123, 'total_tokens': 2332, 'input_token_details': {}, 'output_token_details': {}})],\n",
      " 'submissions': [{'code': 'def has_close_elements(numbers, threshold):\\n'\n",
      "                          '    for idx, elem in enumerate(numbers):\\n'\n",
      "                          '        for idx2, elem2 in enumerate(numbers):\\n'\n",
      "                          '            if idx != idx2:\\n'\n",
      "                          '                distance = abs(elem - elem2)\\n'\n",
      "                          '                if distance < threshold:\\n'\n",
      "                          '                    return True\\n'\n",
      "                          '\\n'\n",
      "                          '    return False',\n",
      "                  'idx': 0,\n",
      "                  'passed': True,\n",
      "                  'stderr': None}]}\n"
     ]
    }
   ],
   "execution_count": 8
  },
  {
   "metadata": {
    "ExecuteTime": {
     "end_time": "2025-10-17T21:43:33.379522Z",
     "start_time": "2025-10-17T21:43:33.364521Z"
    }
   },
   "cell_type": "code",
   "source": [
    "from metrics.pass_at_k import estimate_pass_at_1, estimate_first_submission_accuracy\n",
    "\n",
    "# count metric based on results where each result is a dict with the following keys:\n",
    "# {\n",
    "#     \"fixed_code\": \"str\",\n",
    "#     \"is_fixed\": \"bool\",\n",
    "#     \"iterations\": \"int\",\n",
    "#     \"messages\": \"List[Message]\",\n",
    "#     \"submissions\": \"List[Submission]\",\n",
    "#     \"first_pass\": \"bool\" <first pass means the first submission passed the tests>\n",
    "# }\n",
    "passed_at_k = estimate_pass_at_1(results)\n",
    "first_pass_acc = estimate_first_submission_accuracy(results)\n",
    "print(f\"Pass@1: {passed_at_k:.2f}\")\n",
    "print(f\"First Pass Accuracy: {first_pass_acc:.2f}\")"
   ],
   "id": "a9f416ff60addcdd",
   "outputs": [
    {
     "name": "stdout",
     "output_type": "stream",
     "text": [
      "Pass@1: 0.42\n",
      "First Pass Accuracy: 0.38\n"
     ]
    }
   ],
   "execution_count": 9
  }
 ],
 "metadata": {
  "kernelspec": {
   "display_name": "Python 3",
   "language": "python",
   "name": "python3"
  },
  "language_info": {
   "codemirror_mode": {
    "name": "ipython",
    "version": 2
   },
   "file_extension": ".py",
   "mimetype": "text/x-python",
   "name": "python",
   "nbconvert_exporter": "python",
   "pygments_lexer": "ipython2",
   "version": "2.7.6"
  }
 },
 "nbformat": 4,
 "nbformat_minor": 5
}
